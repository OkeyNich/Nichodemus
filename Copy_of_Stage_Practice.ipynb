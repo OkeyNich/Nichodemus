{
  "nbformat": 4,
  "nbformat_minor": 0,
  "metadata": {
    "colab": {
      "name": "Copy of Stage_Practice.ipynb",
      "provenance": [],
      "authorship_tag": "ABX9TyOzp9lhyu5YAUNwYQoIcmzI",
      "include_colab_link": true
    },
    "kernelspec": {
      "name": "python3",
      "display_name": "Python 3"
    },
    "language_info": {
      "name": "python"
    }
  },
  "cells": [
    {
      "cell_type": "markdown",
      "metadata": {
        "id": "view-in-github",
        "colab_type": "text"
      },
      "source": [
        "<a href=\"https://colab.research.google.com/github/OkeyNich/OkeyNich/blob/main/Copy_of_Stage_Practice.ipynb\" target=\"_parent\"><img src=\"https://colab.research.google.com/assets/colab-badge.svg\" alt=\"Open In Colab\"/></a>"
      ]
    },
    {
      "cell_type": "code",
      "metadata": {
        "colab": {
          "base_uri": "https://localhost:8080/"
        },
        "id": "S-P2cOTD8Rhb",
        "outputId": "ab22c6be-738a-4f88-a041-2d69a2b4dd53"
      },
      "source": [
        "import numpy as np\n",
        "np.identity(3)"
      ],
      "execution_count": null,
      "outputs": [
        {
          "output_type": "execute_result",
          "data": {
            "text/plain": [
              "array([[1., 0., 0.],\n",
              "       [0., 1., 0.],\n",
              "       [0., 0., 1.]])"
            ]
          },
          "metadata": {},
          "execution_count": 5
        }
      ]
    },
    {
      "cell_type": "code",
      "metadata": {
        "id": "vuo31wE9SL5T"
      },
      "source": [
        "# convention for importing numpy\n",
        "import numpy as np"
      ],
      "execution_count": null,
      "outputs": []
    },
    {
      "cell_type": "code",
      "metadata": {
        "colab": {
          "base_uri": "https://localhost:8080/"
        },
        "id": "aPGH8zo2d-_h",
        "outputId": "0b0f3b11-f1e7-4649-b953-96fe1f5287d3"
      },
      "source": [
        "arr = [6, 7, 8, 9]\n",
        "print(type(arr)) # prints <class 'list'>"
      ],
      "execution_count": null,
      "outputs": [
        {
          "output_type": "stream",
          "text": [
            "<class 'list'>\n"
          ],
          "name": "stdout"
        }
      ]
    },
    {
      "cell_type": "code",
      "metadata": {
        "colab": {
          "base_uri": "https://localhost:8080/"
        },
        "id": "sUb_olTIeI6w",
        "outputId": "ad306d9b-f828-4d65-9c23-41c6d06bb287"
      },
      "source": [
        "a = np.array(arr)\n",
        "print(type(a))  # prints <class 'numpy.ndarray'>\n",
        "print(a.shape)  # prints (4,) - a is an 1d array with 4 items\n",
        "print(a.dtype)  # prints int64"
      ],
      "execution_count": null,
      "outputs": [
        {
          "output_type": "stream",
          "text": [
            "<class 'numpy.ndarray'>\n",
            "(4,)\n",
            "int64\n"
          ],
          "name": "stdout"
        }
      ]
    },
    {
      "cell_type": "code",
      "metadata": {
        "colab": {
          "base_uri": "https://localhost:8080/"
        },
        "id": "dXbUlczbeu2_",
        "outputId": "2f582b0d-a479-4ff2-8176-a4237264d4fb"
      },
      "source": [
        "# get the dimension of a with ndim \n",
        "print(a.ndim)   # prints 1"
      ],
      "execution_count": null,
      "outputs": [
        {
          "output_type": "stream",
          "text": [
            "1\n"
          ],
          "name": "stdout"
        }
      ]
    },
    {
      "cell_type": "code",
      "metadata": {
        "colab": {
          "base_uri": "https://localhost:8080/"
        },
        "id": "lTRtu4YffrGF",
        "outputId": "8261907e-5475-40b3-e8eb-2d628329291a"
      },
      "source": [
        "b = np.array([[1, 2, 3] + [4, 5, 6]])\n",
        "print(b)"
      ],
      "execution_count": null,
      "outputs": [
        {
          "output_type": "stream",
          "text": [
            "[[1 2 3 4 5 6]]\n"
          ],
          "name": "stdout"
        }
      ]
    },
    {
      "cell_type": "code",
      "metadata": {
        "colab": {
          "base_uri": "https://localhost:8080/"
        },
        "id": "cw-eRvHbgNWh",
        "outputId": "76dd1a94-16a1-48af-c1b2-48e0723d1c5d"
      },
      "source": [
        "c = np.array([1,2,3,4])\n",
        "d = np.array([5,6,7,8])\n",
        "E = np.array([c] + [d])\n",
        "print(c+d)\n",
        "print(E)"
      ],
      "execution_count": null,
      "outputs": [
        {
          "output_type": "stream",
          "text": [
            "[ 6  8 10 12]\n",
            "[[1 2 3 4]\n",
            " [5 6 7 8]]\n"
          ],
          "name": "stdout"
        }
      ]
    },
    {
      "cell_type": "code",
      "metadata": {
        "colab": {
          "base_uri": "https://localhost:8080/"
        },
        "id": "aLDSClvtkdgD",
        "outputId": "368a3a1b-0988-4365-8023-9295c61a491a"
      },
      "source": [
        "print(b.ndim)   # prints 2\n",
        "b.shape         # prints (2, 3)"
      ],
      "execution_count": null,
      "outputs": [
        {
          "output_type": "stream",
          "text": [
            "2\n"
          ],
          "name": "stdout"
        },
        {
          "output_type": "execute_result",
          "data": {
            "text/plain": [
              "(1, 6)"
            ]
          },
          "metadata": {},
          "execution_count": 27
        }
      ]
    }
  ]
}