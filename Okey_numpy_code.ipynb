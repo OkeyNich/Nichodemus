{
  "nbformat": 4,
  "nbformat_minor": 0,
  "metadata": {
    "colab": {
      "name": "Okey_numpy_code.ipynb",
      "provenance": [],
      "collapsed_sections": [],
      "toc_visible": true,
      "authorship_tag": "ABX9TyOj2msqNiyRGOlqoRAqJB5t",
      "include_colab_link": true
    },
    "kernelspec": {
      "name": "python3",
      "display_name": "Python 3"
    },
    "language_info": {
      "name": "python"
    }
  },
  "cells": [
    {
      "cell_type": "markdown",
      "metadata": {
        "id": "view-in-github",
        "colab_type": "text"
      },
      "source": [
        "<a href=\"https://colab.research.google.com/github/OkeyNich/OkeyNich/blob/main/Okey_numpy_code.ipynb\" target=\"_parent\"><img src=\"https://colab.research.google.com/assets/colab-badge.svg\" alt=\"Open In Colab\"/></a>"
      ]
    },
    {
      "cell_type": "code",
      "metadata": {
        "colab": {
          "base_uri": "https://localhost:8080/"
        },
        "id": "a-wvUlTmYrF-",
        "outputId": "44bea613-c08d-4a2f-c7fb-9b95d1c93eb2"
      },
      "source": [
        "# convention for importing numpy\n",
        "import numpy as np\n",
        "\n",
        "arr = [6, 7, 8, 9]\n",
        "print(type(arr)) # prints <class 'list'>\n",
        "\n",
        "a = np.array(arr)\n",
        "print(type(a))  # prints <class 'numpy.ndarray'>\n",
        "print(a.shape)  # prints (4,) - a is a 1d array with 4 items\n",
        "print(a.dtype)  # prints int64\n",
        "\n",
        "# get the dimension of a with ndim \n",
        "print(a.ndim)   # prints 1\n",
        "\n",
        "b = np.array([[1, 2, 3], [4, 5, 6]])\n",
        "print(b)        # prints [[1 2 3 ],[4 5 6]]\n",
        "print(b.ndim)   # prints 2\n",
        "b.shape         # prints (2, 3) - b a 2d array with 2 rows and     3 columns\n",
        "import numpy as np\n",
        "\n",
        "arr = [6, 7, 8, 9]\n",
        "print(type(arr)) # prints <class 'list'>\n",
        "\n",
        "a = np.array(arr)\n",
        "print(type(a))  # prints <class 'numpy.ndarray'>\n",
        "print(a.shape)  # prints (4,) - a is a 1d array with 4 items\n",
        "print(a.dtype)  # prints int64\n",
        "\n",
        "# get the dimension of a with ndim \n",
        "print(a.ndim)   # prints 1\n",
        "\n",
        "b = np.array([[1, 2, 3], [4, 5, 6]])\n",
        "print(b)        # prints [[1 2 3],[4 5 6]]\n",
        "print(b.ndim)   # prints 2\n",
        "b.shape         # prints (2, 3) - b a 2d array with 2 rows and     3 columns\n"
      ],
      "execution_count": 3,
      "outputs": [
        {
          "output_type": "stream",
          "text": [
            "<class 'list'>\n",
            "<class 'numpy.ndarray'>\n",
            "(4,)\n",
            "int64\n",
            "1\n",
            "[[1 2 3]\n",
            " [4 5 6]]\n",
            "2\n",
            "<class 'list'>\n",
            "<class 'numpy.ndarray'>\n",
            "(4,)\n",
            "int64\n",
            "1\n",
            "[[1 2 3]\n",
            " [4 5 6]]\n",
            "2\n"
          ],
          "name": "stdout"
        },
        {
          "output_type": "execute_result",
          "data": {
            "text/plain": [
              "(2, 3)"
            ]
          },
          "metadata": {},
          "execution_count": 3
        }
      ]
    },
    {
      "cell_type": "code",
      "metadata": {
        "colab": {
          "base_uri": "https://localhost:8080/"
        },
        "id": "3X07R2kXeGCS",
        "outputId": "78eb5a3c-4a00-4b4c-d823-3d9fccbc5976"
      },
      "source": [
        "# a 2x3 array with random values\n",
        "np.random.random((2, 3))\n",
        "# a 2x3 array of zeros\n",
        "np.zeros((2, 3))\n",
        "# a 2x3 array of ones\n",
        "np.zeros((2, 3)) \n",
        "# a 2x3 array of ones\n",
        "np.zeros((2, 3)) \n",
        "# a 3x3 identity matrix \n",
        "np.zeros(3) "
      ],
      "execution_count": 10,
      "outputs": [
        {
          "output_type": "execute_result",
          "data": {
            "text/plain": [
              "array([0., 0., 0.])"
            ]
          },
          "metadata": {},
          "execution_count": 10
        }
      ]
    },
    {
      "cell_type": "code",
      "metadata": {
        "id": "5JiGEiSWjHJ0"
      },
      "source": [
        ""
      ],
      "execution_count": null,
      "outputs": []
    }
  ]
}